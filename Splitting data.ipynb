{
 "cells": [
  {
   "cell_type": "markdown",
   "id": "6792b3a6",
   "metadata": {},
   "source": [
    "# Splittting data into training and testing data "
   ]
  },
  {
   "cell_type": "markdown",
   "id": "6610b99a",
   "metadata": {},
   "source": [
    "## ----------------------------------------METHOD 1---------------------------------------------"
   ]
  },
  {
   "cell_type": "code",
   "execution_count": 360,
   "id": "7ba89c0f",
   "metadata": {},
   "outputs": [],
   "source": [
    "import numpy as np\n",
    "import pandas as pd\n"
   ]
  },
  {
   "cell_type": "code",
   "execution_count": null,
   "id": "257163cf",
   "metadata": {},
   "outputs": [],
   "source": []
  },
  {
   "cell_type": "markdown",
   "id": "42f479b4",
   "metadata": {},
   "source": [
    "## Let me add a column to have 0 if the country is unstable and 1 if the country is not stable"
   ]
  },
  {
   "cell_type": "markdown",
   "id": "6c80ef4a",
   "metadata": {},
   "source": [
    "### The factors influencing will be the happiness score, GDP and freedom"
   ]
  },
  {
   "cell_type": "code",
   "execution_count": 361,
   "id": "15c14f0f",
   "metadata": {},
   "outputs": [],
   "source": [
    "df=pd.DataFrame(data=\n",
    "                {\n",
    "                  \"Country\":['Switzerland','Rwanda','Iceland','Benin',\"Denmark\",\"Burundi\",\"Togo\",\"Norway\",\"Canada\",\"Syria\"],\n",
    "                    \"Happiness Rank\":[1,2,3,4,5,6,7,8,9,10],\n",
    "                    \"Freedom\":[0.66557,0.62877,0.64938,0.66973,0.63297,0.59201,0.48450,0.15684,0.11850,0.36453],\n",
    "                    \"GDP\":[1.39651,1.30232,1.32548,1.45900,1.32629,0.22208,0.28665,0.66320,0.01530,0.20868],\n",
    "                    \"Life expectant\":[65,64,63,69,64,55,55,60,53,54],\n",
    "                    \"Stable\":[88,83,86,85,75,37,40,69,23,10]\n",
    "                }\n",
    "               )"
   ]
  },
  {
   "cell_type": "code",
   "execution_count": 362,
   "id": "764f371f",
   "metadata": {},
   "outputs": [
    {
     "data": {
      "text/html": [
       "<div>\n",
       "<style scoped>\n",
       "    .dataframe tbody tr th:only-of-type {\n",
       "        vertical-align: middle;\n",
       "    }\n",
       "\n",
       "    .dataframe tbody tr th {\n",
       "        vertical-align: top;\n",
       "    }\n",
       "\n",
       "    .dataframe thead th {\n",
       "        text-align: right;\n",
       "    }\n",
       "</style>\n",
       "<table border=\"1\" class=\"dataframe\">\n",
       "  <thead>\n",
       "    <tr style=\"text-align: right;\">\n",
       "      <th></th>\n",
       "      <th>Country</th>\n",
       "      <th>Happiness Rank</th>\n",
       "      <th>Freedom</th>\n",
       "      <th>GDP</th>\n",
       "      <th>Life expectant</th>\n",
       "      <th>Stable</th>\n",
       "    </tr>\n",
       "  </thead>\n",
       "  <tbody>\n",
       "    <tr>\n",
       "      <th>0</th>\n",
       "      <td>Switzerland</td>\n",
       "      <td>1</td>\n",
       "      <td>0.66557</td>\n",
       "      <td>1.39651</td>\n",
       "      <td>65</td>\n",
       "      <td>88</td>\n",
       "    </tr>\n",
       "    <tr>\n",
       "      <th>1</th>\n",
       "      <td>Rwanda</td>\n",
       "      <td>2</td>\n",
       "      <td>0.62877</td>\n",
       "      <td>1.30232</td>\n",
       "      <td>64</td>\n",
       "      <td>83</td>\n",
       "    </tr>\n",
       "    <tr>\n",
       "      <th>2</th>\n",
       "      <td>Iceland</td>\n",
       "      <td>3</td>\n",
       "      <td>0.64938</td>\n",
       "      <td>1.32548</td>\n",
       "      <td>63</td>\n",
       "      <td>86</td>\n",
       "    </tr>\n",
       "    <tr>\n",
       "      <th>3</th>\n",
       "      <td>Benin</td>\n",
       "      <td>4</td>\n",
       "      <td>0.66973</td>\n",
       "      <td>1.45900</td>\n",
       "      <td>69</td>\n",
       "      <td>85</td>\n",
       "    </tr>\n",
       "    <tr>\n",
       "      <th>4</th>\n",
       "      <td>Denmark</td>\n",
       "      <td>5</td>\n",
       "      <td>0.63297</td>\n",
       "      <td>1.32629</td>\n",
       "      <td>64</td>\n",
       "      <td>75</td>\n",
       "    </tr>\n",
       "    <tr>\n",
       "      <th>5</th>\n",
       "      <td>Burundi</td>\n",
       "      <td>6</td>\n",
       "      <td>0.59201</td>\n",
       "      <td>0.22208</td>\n",
       "      <td>55</td>\n",
       "      <td>37</td>\n",
       "    </tr>\n",
       "    <tr>\n",
       "      <th>6</th>\n",
       "      <td>Togo</td>\n",
       "      <td>7</td>\n",
       "      <td>0.48450</td>\n",
       "      <td>0.28665</td>\n",
       "      <td>55</td>\n",
       "      <td>40</td>\n",
       "    </tr>\n",
       "    <tr>\n",
       "      <th>7</th>\n",
       "      <td>Norway</td>\n",
       "      <td>8</td>\n",
       "      <td>0.15684</td>\n",
       "      <td>0.66320</td>\n",
       "      <td>60</td>\n",
       "      <td>69</td>\n",
       "    </tr>\n",
       "    <tr>\n",
       "      <th>8</th>\n",
       "      <td>Canada</td>\n",
       "      <td>9</td>\n",
       "      <td>0.11850</td>\n",
       "      <td>0.01530</td>\n",
       "      <td>53</td>\n",
       "      <td>23</td>\n",
       "    </tr>\n",
       "    <tr>\n",
       "      <th>9</th>\n",
       "      <td>Syria</td>\n",
       "      <td>10</td>\n",
       "      <td>0.36453</td>\n",
       "      <td>0.20868</td>\n",
       "      <td>54</td>\n",
       "      <td>10</td>\n",
       "    </tr>\n",
       "  </tbody>\n",
       "</table>\n",
       "</div>"
      ],
      "text/plain": [
       "       Country  Happiness Rank  Freedom      GDP  Life expectant  Stable\n",
       "0  Switzerland               1  0.66557  1.39651              65      88\n",
       "1       Rwanda               2  0.62877  1.30232              64      83\n",
       "2      Iceland               3  0.64938  1.32548              63      86\n",
       "3        Benin               4  0.66973  1.45900              69      85\n",
       "4      Denmark               5  0.63297  1.32629              64      75\n",
       "5      Burundi               6  0.59201  0.22208              55      37\n",
       "6         Togo               7  0.48450  0.28665              55      40\n",
       "7       Norway               8  0.15684  0.66320              60      69\n",
       "8       Canada               9  0.11850  0.01530              53      23\n",
       "9        Syria              10  0.36453  0.20868              54      10"
      ]
     },
     "execution_count": 362,
     "metadata": {},
     "output_type": "execute_result"
    }
   ],
   "source": [
    "df"
   ]
  },
  {
   "cell_type": "markdown",
   "id": "d4c058b0",
   "metadata": {},
   "source": [
    "### First create two variables independent and dependent"
   ]
  },
  {
   "cell_type": "code",
   "execution_count": 363,
   "id": "2f2158c4",
   "metadata": {},
   "outputs": [],
   "source": [
    "independent=df.iloc[1:,1:5].values"
   ]
  },
  {
   "cell_type": "markdown",
   "id": "642f50aa",
   "metadata": {},
   "source": [
    "#### In this I have chosen the 'Happiness Rank',\t'Freedom'\t'GDP' & 'Life expectant'  as the indpendent columns"
   ]
  },
  {
   "cell_type": "code",
   "execution_count": 364,
   "id": "8871014b",
   "metadata": {},
   "outputs": [
    {
     "data": {
      "text/plain": [
       "array([[2.00000e+00, 6.28770e-01, 1.30232e+00, 6.40000e+01],\n",
       "       [3.00000e+00, 6.49380e-01, 1.32548e+00, 6.30000e+01],\n",
       "       [4.00000e+00, 6.69730e-01, 1.45900e+00, 6.90000e+01],\n",
       "       [5.00000e+00, 6.32970e-01, 1.32629e+00, 6.40000e+01],\n",
       "       [6.00000e+00, 5.92010e-01, 2.22080e-01, 5.50000e+01],\n",
       "       [7.00000e+00, 4.84500e-01, 2.86650e-01, 5.50000e+01],\n",
       "       [8.00000e+00, 1.56840e-01, 6.63200e-01, 6.00000e+01],\n",
       "       [9.00000e+00, 1.18500e-01, 1.53000e-02, 5.30000e+01],\n",
       "       [1.00000e+01, 3.64530e-01, 2.08680e-01, 5.40000e+01]])"
      ]
     },
     "execution_count": 364,
     "metadata": {},
     "output_type": "execute_result"
    }
   ],
   "source": [
    "independent"
   ]
  },
  {
   "cell_type": "code",
   "execution_count": null,
   "id": "31585844",
   "metadata": {},
   "outputs": [],
   "source": []
  },
  {
   "cell_type": "markdown",
   "id": "53079815",
   "metadata": {},
   "source": [
    "### I'll make stable column as my dependent variable"
   ]
  },
  {
   "cell_type": "code",
   "execution_count": 365,
   "id": "0fbb8845",
   "metadata": {},
   "outputs": [
    {
     "data": {
      "text/plain": [
       "array([[83],\n",
       "       [86],\n",
       "       [85],\n",
       "       [75],\n",
       "       [37],\n",
       "       [40],\n",
       "       [69],\n",
       "       [23],\n",
       "       [10]], dtype=int64)"
      ]
     },
     "execution_count": 365,
     "metadata": {},
     "output_type": "execute_result"
    }
   ],
   "source": [
    "dependent=df.iloc[1:,5:].values\n",
    "dependent"
   ]
  },
  {
   "cell_type": "code",
   "execution_count": null,
   "id": "91caf8fd",
   "metadata": {},
   "outputs": [],
   "source": []
  },
  {
   "cell_type": "markdown",
   "id": "b264825d",
   "metadata": {},
   "source": [
    "## Using scikit-learn library to split the data into train and test"
   ]
  },
  {
   "cell_type": "markdown",
   "id": "95c9a943",
   "metadata": {},
   "source": [
    "#### I will seperately split dependent and indpendent variables into x_test,x_train and y_test and _train"
   ]
  },
  {
   "cell_type": "code",
   "execution_count": 366,
   "id": "174cdb0e",
   "metadata": {},
   "outputs": [],
   "source": [
    "from sklearn.model_selection import train_test_split"
   ]
  },
  {
   "cell_type": "code",
   "execution_count": 367,
   "id": "e729bb72",
   "metadata": {},
   "outputs": [],
   "source": [
    "x_train,x_test,y_train,y_test = train_test_split(independent,dependent,test_size = 0.2,random_state = 5)"
   ]
  },
  {
   "cell_type": "code",
   "execution_count": 368,
   "id": "80dc3ac5",
   "metadata": {},
   "outputs": [
    {
     "data": {
      "text/plain": [
       "array([[1.00000e+01, 3.64530e-01, 2.08680e-01, 5.40000e+01],\n",
       "       [9.00000e+00, 1.18500e-01, 1.53000e-02, 5.30000e+01],\n",
       "       [3.00000e+00, 6.49380e-01, 1.32548e+00, 6.30000e+01],\n",
       "       [2.00000e+00, 6.28770e-01, 1.30232e+00, 6.40000e+01],\n",
       "       [7.00000e+00, 4.84500e-01, 2.86650e-01, 5.50000e+01],\n",
       "       [8.00000e+00, 1.56840e-01, 6.63200e-01, 6.00000e+01],\n",
       "       [5.00000e+00, 6.32970e-01, 1.32629e+00, 6.40000e+01]])"
      ]
     },
     "execution_count": 368,
     "metadata": {},
     "output_type": "execute_result"
    }
   ],
   "source": [
    "x_train"
   ]
  },
  {
   "cell_type": "markdown",
   "id": "82a7313f",
   "metadata": {},
   "source": [
    "##### In the above module I have used 20% of my data in training and used a random selection of my data as 5"
   ]
  },
  {
   "cell_type": "code",
   "execution_count": 369,
   "id": "002b4e9d",
   "metadata": {},
   "outputs": [
    {
     "data": {
      "text/plain": [
       "array([[ 4.     ,  0.66973,  1.459  , 69.     ],\n",
       "       [ 6.     ,  0.59201,  0.22208, 55.     ]])"
      ]
     },
     "execution_count": 369,
     "metadata": {},
     "output_type": "execute_result"
    }
   ],
   "source": [
    "x_test"
   ]
  },
  {
   "cell_type": "code",
   "execution_count": null,
   "id": "7d29bffe",
   "metadata": {},
   "outputs": [],
   "source": []
  },
  {
   "cell_type": "markdown",
   "id": "ede0af4c",
   "metadata": {},
   "source": [
    "## -------------------------------------------METHOD 2-----------------------------------------"
   ]
  },
  {
   "cell_type": "markdown",
   "id": "4be245f7",
   "metadata": {},
   "source": [
    "### I AM USING THE SAME DATAFRAME THAT I HAVE USED IN METHOD 1"
   ]
  },
  {
   "cell_type": "code",
   "execution_count": 370,
   "id": "f7745abe",
   "metadata": {},
   "outputs": [
    {
     "data": {
      "text/html": [
       "<div>\n",
       "<style scoped>\n",
       "    .dataframe tbody tr th:only-of-type {\n",
       "        vertical-align: middle;\n",
       "    }\n",
       "\n",
       "    .dataframe tbody tr th {\n",
       "        vertical-align: top;\n",
       "    }\n",
       "\n",
       "    .dataframe thead th {\n",
       "        text-align: right;\n",
       "    }\n",
       "</style>\n",
       "<table border=\"1\" class=\"dataframe\">\n",
       "  <thead>\n",
       "    <tr style=\"text-align: right;\">\n",
       "      <th></th>\n",
       "      <th>Country</th>\n",
       "      <th>Happiness Rank</th>\n",
       "      <th>Freedom</th>\n",
       "      <th>GDP</th>\n",
       "      <th>Life expectant</th>\n",
       "      <th>Stable</th>\n",
       "    </tr>\n",
       "  </thead>\n",
       "  <tbody>\n",
       "    <tr>\n",
       "      <th>0</th>\n",
       "      <td>Switzerland</td>\n",
       "      <td>1</td>\n",
       "      <td>0.66557</td>\n",
       "      <td>1.39651</td>\n",
       "      <td>65</td>\n",
       "      <td>88</td>\n",
       "    </tr>\n",
       "    <tr>\n",
       "      <th>1</th>\n",
       "      <td>Rwanda</td>\n",
       "      <td>2</td>\n",
       "      <td>0.62877</td>\n",
       "      <td>1.30232</td>\n",
       "      <td>64</td>\n",
       "      <td>83</td>\n",
       "    </tr>\n",
       "    <tr>\n",
       "      <th>2</th>\n",
       "      <td>Iceland</td>\n",
       "      <td>3</td>\n",
       "      <td>0.64938</td>\n",
       "      <td>1.32548</td>\n",
       "      <td>63</td>\n",
       "      <td>86</td>\n",
       "    </tr>\n",
       "    <tr>\n",
       "      <th>3</th>\n",
       "      <td>Benin</td>\n",
       "      <td>4</td>\n",
       "      <td>0.66973</td>\n",
       "      <td>1.45900</td>\n",
       "      <td>69</td>\n",
       "      <td>85</td>\n",
       "    </tr>\n",
       "    <tr>\n",
       "      <th>4</th>\n",
       "      <td>Denmark</td>\n",
       "      <td>5</td>\n",
       "      <td>0.63297</td>\n",
       "      <td>1.32629</td>\n",
       "      <td>64</td>\n",
       "      <td>75</td>\n",
       "    </tr>\n",
       "    <tr>\n",
       "      <th>5</th>\n",
       "      <td>Burundi</td>\n",
       "      <td>6</td>\n",
       "      <td>0.59201</td>\n",
       "      <td>0.22208</td>\n",
       "      <td>55</td>\n",
       "      <td>37</td>\n",
       "    </tr>\n",
       "    <tr>\n",
       "      <th>6</th>\n",
       "      <td>Togo</td>\n",
       "      <td>7</td>\n",
       "      <td>0.48450</td>\n",
       "      <td>0.28665</td>\n",
       "      <td>55</td>\n",
       "      <td>40</td>\n",
       "    </tr>\n",
       "    <tr>\n",
       "      <th>7</th>\n",
       "      <td>Norway</td>\n",
       "      <td>8</td>\n",
       "      <td>0.15684</td>\n",
       "      <td>0.66320</td>\n",
       "      <td>60</td>\n",
       "      <td>69</td>\n",
       "    </tr>\n",
       "    <tr>\n",
       "      <th>8</th>\n",
       "      <td>Canada</td>\n",
       "      <td>9</td>\n",
       "      <td>0.11850</td>\n",
       "      <td>0.01530</td>\n",
       "      <td>53</td>\n",
       "      <td>23</td>\n",
       "    </tr>\n",
       "    <tr>\n",
       "      <th>9</th>\n",
       "      <td>Syria</td>\n",
       "      <td>10</td>\n",
       "      <td>0.36453</td>\n",
       "      <td>0.20868</td>\n",
       "      <td>54</td>\n",
       "      <td>10</td>\n",
       "    </tr>\n",
       "  </tbody>\n",
       "</table>\n",
       "</div>"
      ],
      "text/plain": [
       "       Country  Happiness Rank  Freedom      GDP  Life expectant  Stable\n",
       "0  Switzerland               1  0.66557  1.39651              65      88\n",
       "1       Rwanda               2  0.62877  1.30232              64      83\n",
       "2      Iceland               3  0.64938  1.32548              63      86\n",
       "3        Benin               4  0.66973  1.45900              69      85\n",
       "4      Denmark               5  0.63297  1.32629              64      75\n",
       "5      Burundi               6  0.59201  0.22208              55      37\n",
       "6         Togo               7  0.48450  0.28665              55      40\n",
       "7       Norway               8  0.15684  0.66320              60      69\n",
       "8       Canada               9  0.11850  0.01530              53      23\n",
       "9        Syria              10  0.36453  0.20868              54      10"
      ]
     },
     "execution_count": 370,
     "metadata": {},
     "output_type": "execute_result"
    }
   ],
   "source": [
    "df"
   ]
  },
  {
   "cell_type": "markdown",
   "id": "c9059f64",
   "metadata": {},
   "source": [
    "## Define x and y ie:dependent and independent variables"
   ]
  },
  {
   "cell_type": "code",
   "execution_count": 371,
   "id": "a465639d",
   "metadata": {},
   "outputs": [],
   "source": [
    "df1=df.drop(['Country'],axis=1) #first drop country column\n",
    "df2=df1.drop(['Happiness Rank'],axis=1) #drop column happiness rank\n",
    "x = df2.drop(['Stable'],axis=1).values #drop Country and Stable columns from my independent columns\n",
    "y = df2['Stable'].values #add stables as my dependent variable"
   ]
  },
  {
   "cell_type": "code",
   "execution_count": 372,
   "id": "25dfc82e",
   "metadata": {},
   "outputs": [
    {
     "data": {
      "text/html": [
       "<div>\n",
       "<style scoped>\n",
       "    .dataframe tbody tr th:only-of-type {\n",
       "        vertical-align: middle;\n",
       "    }\n",
       "\n",
       "    .dataframe tbody tr th {\n",
       "        vertical-align: top;\n",
       "    }\n",
       "\n",
       "    .dataframe thead th {\n",
       "        text-align: right;\n",
       "    }\n",
       "</style>\n",
       "<table border=\"1\" class=\"dataframe\">\n",
       "  <thead>\n",
       "    <tr style=\"text-align: right;\">\n",
       "      <th></th>\n",
       "      <th>Freedom</th>\n",
       "      <th>GDP</th>\n",
       "      <th>Life expectant</th>\n",
       "      <th>Stable</th>\n",
       "    </tr>\n",
       "  </thead>\n",
       "  <tbody>\n",
       "    <tr>\n",
       "      <th>0</th>\n",
       "      <td>0.66557</td>\n",
       "      <td>1.39651</td>\n",
       "      <td>65</td>\n",
       "      <td>88</td>\n",
       "    </tr>\n",
       "    <tr>\n",
       "      <th>1</th>\n",
       "      <td>0.62877</td>\n",
       "      <td>1.30232</td>\n",
       "      <td>64</td>\n",
       "      <td>83</td>\n",
       "    </tr>\n",
       "    <tr>\n",
       "      <th>2</th>\n",
       "      <td>0.64938</td>\n",
       "      <td>1.32548</td>\n",
       "      <td>63</td>\n",
       "      <td>86</td>\n",
       "    </tr>\n",
       "    <tr>\n",
       "      <th>3</th>\n",
       "      <td>0.66973</td>\n",
       "      <td>1.45900</td>\n",
       "      <td>69</td>\n",
       "      <td>85</td>\n",
       "    </tr>\n",
       "    <tr>\n",
       "      <th>4</th>\n",
       "      <td>0.63297</td>\n",
       "      <td>1.32629</td>\n",
       "      <td>64</td>\n",
       "      <td>75</td>\n",
       "    </tr>\n",
       "    <tr>\n",
       "      <th>5</th>\n",
       "      <td>0.59201</td>\n",
       "      <td>0.22208</td>\n",
       "      <td>55</td>\n",
       "      <td>37</td>\n",
       "    </tr>\n",
       "    <tr>\n",
       "      <th>6</th>\n",
       "      <td>0.48450</td>\n",
       "      <td>0.28665</td>\n",
       "      <td>55</td>\n",
       "      <td>40</td>\n",
       "    </tr>\n",
       "    <tr>\n",
       "      <th>7</th>\n",
       "      <td>0.15684</td>\n",
       "      <td>0.66320</td>\n",
       "      <td>60</td>\n",
       "      <td>69</td>\n",
       "    </tr>\n",
       "    <tr>\n",
       "      <th>8</th>\n",
       "      <td>0.11850</td>\n",
       "      <td>0.01530</td>\n",
       "      <td>53</td>\n",
       "      <td>23</td>\n",
       "    </tr>\n",
       "    <tr>\n",
       "      <th>9</th>\n",
       "      <td>0.36453</td>\n",
       "      <td>0.20868</td>\n",
       "      <td>54</td>\n",
       "      <td>10</td>\n",
       "    </tr>\n",
       "  </tbody>\n",
       "</table>\n",
       "</div>"
      ],
      "text/plain": [
       "   Freedom      GDP  Life expectant  Stable\n",
       "0  0.66557  1.39651              65      88\n",
       "1  0.62877  1.30232              64      83\n",
       "2  0.64938  1.32548              63      86\n",
       "3  0.66973  1.45900              69      85\n",
       "4  0.63297  1.32629              64      75\n",
       "5  0.59201  0.22208              55      37\n",
       "6  0.48450  0.28665              55      40\n",
       "7  0.15684  0.66320              60      69\n",
       "8  0.11850  0.01530              53      23\n",
       "9  0.36453  0.20868              54      10"
      ]
     },
     "execution_count": 372,
     "metadata": {},
     "output_type": "execute_result"
    }
   ],
   "source": [
    "df2"
   ]
  },
  {
   "cell_type": "markdown",
   "id": "c996dff6",
   "metadata": {},
   "source": [
    "### Spliting the dataset into train and test sets"
   ]
  },
  {
   "cell_type": "code",
   "execution_count": 373,
   "id": "c7760c44",
   "metadata": {},
   "outputs": [
    {
     "name": "stdout",
     "output_type": "stream",
     "text": [
      "[[6.65570e-01 1.39651e+00 6.50000e+01]\n",
      " [6.28770e-01 1.30232e+00 6.40000e+01]\n",
      " [6.49380e-01 1.32548e+00 6.30000e+01]\n",
      " [6.69730e-01 1.45900e+00 6.90000e+01]\n",
      " [6.32970e-01 1.32629e+00 6.40000e+01]\n",
      " [5.92010e-01 2.22080e-01 5.50000e+01]\n",
      " [4.84500e-01 2.86650e-01 5.50000e+01]\n",
      " [1.56840e-01 6.63200e-01 6.00000e+01]\n",
      " [1.18500e-01 1.53000e-02 5.30000e+01]\n",
      " [3.64530e-01 2.08680e-01 5.40000e+01]]\n"
     ]
    }
   ],
   "source": [
    "print(x)"
   ]
  },
  {
   "cell_type": "code",
   "execution_count": 374,
   "id": "703949d0",
   "metadata": {},
   "outputs": [
    {
     "name": "stdout",
     "output_type": "stream",
     "text": [
      "[88 83 86 85 75 37 40 69 23 10]\n"
     ]
    }
   ],
   "source": [
    "print(y)"
   ]
  },
  {
   "cell_type": "code",
   "execution_count": 375,
   "id": "2a918ac7",
   "metadata": {},
   "outputs": [],
   "source": [
    "from sklearn.model_selection import train_test_split\n",
    "x_train,x_test,y_train,y_test = train_test_split(x,y,test_size = 0.2,random_state = 0) "
   ]
  },
  {
   "cell_type": "markdown",
   "id": "20ed164b",
   "metadata": {},
   "source": [
    "##### making random_state to be 0 means helps the results to remain the same each and every time we run module"
   ]
  },
  {
   "cell_type": "markdown",
   "id": "105d9404",
   "metadata": {},
   "source": [
    "### Training data on train set using linear regression"
   ]
  },
  {
   "cell_type": "code",
   "execution_count": 376,
   "id": "fd13e231",
   "metadata": {},
   "outputs": [],
   "source": [
    "from sklearn.linear_model import LinearRegression"
   ]
  },
  {
   "cell_type": "code",
   "execution_count": 377,
   "id": "84f5b98e",
   "metadata": {},
   "outputs": [],
   "source": [
    "regressor = LinearRegression() #calling the LinearRegression\n"
   ]
  },
  {
   "cell_type": "code",
   "execution_count": 378,
   "id": "b8ff9d7e",
   "metadata": {},
   "outputs": [
    {
     "data": {
      "text/plain": [
       "LinearRegression()"
      ]
     },
     "execution_count": 378,
     "metadata": {},
     "output_type": "execute_result"
    }
   ],
   "source": [
    "regressor.fit(x_train,y_train)"
   ]
  },
  {
   "cell_type": "markdown",
   "id": "5d77d622",
   "metadata": {},
   "source": [
    "## Predict the test set"
   ]
  },
  {
   "cell_type": "code",
   "execution_count": 379,
   "id": "862135ee",
   "metadata": {},
   "outputs": [],
   "source": [
    "y_pred = regressor.predict(x_test)"
   ]
  },
  {
   "cell_type": "code",
   "execution_count": 380,
   "id": "e4771b9e",
   "metadata": {},
   "outputs": [
    {
     "name": "stdout",
     "output_type": "stream",
     "text": [
      "[77.48613448 27.63228157]\n"
     ]
    }
   ],
   "source": [
    "print(y_pred)"
   ]
  },
  {
   "cell_type": "markdown",
   "id": "e3991f17",
   "metadata": {},
   "source": [
    "#### Try predict the 'Happiness Rank'\t'Freedom'\t'GDP'\t& 'Life expectant' of switzerland"
   ]
  },
  {
   "cell_type": "code",
   "execution_count": 381,
   "id": "1485ed4f",
   "metadata": {},
   "outputs": [
    {
     "data": {
      "text/plain": [
       "array([83.15104549])"
      ]
     },
     "execution_count": 381,
     "metadata": {},
     "output_type": "execute_result"
    }
   ],
   "source": [
    "regressor.predict([[0.66557,1.39651,65]])"
   ]
  },
  {
   "cell_type": "markdown",
   "id": "80726e62",
   "metadata": {},
   "source": [
    "### the above prediction shows that the stability in switzerland is 89.96% which is almost 88% as indictaed"
   ]
  },
  {
   "cell_type": "code",
   "execution_count": 382,
   "id": "839b6006",
   "metadata": {},
   "outputs": [
    {
     "data": {
      "text/plain": [
       "array([62.27289016])"
      ]
     },
     "execution_count": 382,
     "metadata": {},
     "output_type": "execute_result"
    }
   ],
   "source": [
    "regressor.predict([[0.62877,1.30232,55]])"
   ]
  },
  {
   "cell_type": "markdown",
   "id": "773bed74",
   "metadata": {},
   "source": [
    "## Model Evaluation"
   ]
  },
  {
   "cell_type": "code",
   "execution_count": 383,
   "id": "7641240f",
   "metadata": {},
   "outputs": [
    {
     "data": {
      "text/plain": [
       "0.9526611546585415"
      ]
     },
     "execution_count": 383,
     "metadata": {},
     "output_type": "execute_result"
    }
   ],
   "source": [
    "from sklearn.metrics import r2_score\n",
    "r2_score(y_test,y_pred)"
   ]
  },
  {
   "cell_type": "markdown",
   "id": "97345abf",
   "metadata": {},
   "source": [
    "### The above model is 95.26% accurate. this is a very good"
   ]
  },
  {
   "cell_type": "markdown",
   "id": "86438de1",
   "metadata": {},
   "source": [
    "## Visualization of results"
   ]
  },
  {
   "cell_type": "code",
   "execution_count": 384,
   "id": "72d3f050",
   "metadata": {},
   "outputs": [],
   "source": [
    "import matplotlib.pyplot as plt"
   ]
  },
  {
   "cell_type": "code",
   "execution_count": 385,
   "id": "916d3f9c",
   "metadata": {},
   "outputs": [
    {
     "data": {
      "image/png": "[encoded data removed]",
      "text/plain": [
       "<Figure size 432x288 with 1 Axes>"
      ]
     },
     "metadata": {
      "needs_background": "light"
     },
     "output_type": "display_data"
    }
   ],
   "source": [
    "plt.plot(y_test,y_pred)\n",
    "plt.xlabel(\"ACTUAL STABILITY\")\n",
    "plt.ylabel(\"PREDICTED STABILITY\")\n",
    "plt.title(\"PREDICTED AGAINST ACTUAL\")\n",
    "plt.show()"
   ]
  },
  {
   "cell_type": "markdown",
   "id": "45d6c172",
   "metadata": {},
   "source": [
    "### my plot line is straight meaning that my module is very accurate"
   ]
  },
  {
   "cell_type": "code",
   "execution_count": null,
   "id": "8e1bcea3",
   "metadata": {},
   "outputs": [],
   "source": []
  },
  {
   "cell_type": "markdown",
   "id": "6739fdb5",
   "metadata": {},
   "source": [
    "## Predicted values"
   ]
  },
  {
   "cell_type": "code",
   "execution_count": 386,
   "id": "3062766e",
   "metadata": {},
   "outputs": [],
   "source": [
    "pred_y=pd.DataFrame({\"ACTUAL VALUE\":y_test,\"PREDICTED VALUE\":y_pred,\"Difference\":y_test-y_pred})"
   ]
  },
  {
   "cell_type": "code",
   "execution_count": 390,
   "id": "311c31bb",
   "metadata": {},
   "outputs": [
    {
     "data": {
      "text/html": [
       "<div>\n",
       "<style scoped>\n",
       "    .dataframe tbody tr th:only-of-type {\n",
       "        vertical-align: middle;\n",
       "    }\n",
       "\n",
       "    .dataframe tbody tr th {\n",
       "        vertical-align: top;\n",
       "    }\n",
       "\n",
       "    .dataframe thead th {\n",
       "        text-align: right;\n",
       "    }\n",
       "</style>\n",
       "<table border=\"1\" class=\"dataframe\">\n",
       "  <thead>\n",
       "    <tr style=\"text-align: right;\">\n",
       "      <th></th>\n",
       "      <th>ACTUAL VALUE</th>\n",
       "      <th>PREDICTED VALUE</th>\n",
       "      <th>Difference</th>\n",
       "    </tr>\n",
       "  </thead>\n",
       "  <tbody>\n",
       "    <tr>\n",
       "      <th>0</th>\n",
       "      <td>86</td>\n",
       "      <td>77.486134</td>\n",
       "      <td>8.513866</td>\n",
       "    </tr>\n",
       "    <tr>\n",
       "      <th>1</th>\n",
       "      <td>23</td>\n",
       "      <td>27.632282</td>\n",
       "      <td>-4.632282</td>\n",
       "    </tr>\n",
       "  </tbody>\n",
       "</table>\n",
       "</div>"
      ],
      "text/plain": [
       "   ACTUAL VALUE  PREDICTED VALUE  Difference\n",
       "0            86        77.486134    8.513866\n",
       "1            23        27.632282   -4.632282"
      ]
     },
     "execution_count": 390,
     "metadata": {},
     "output_type": "execute_result"
    }
   ],
   "source": [
    "pred_y"
   ]
  },
  {
   "cell_type": "code",
   "execution_count": null,
   "id": "5774c8ee",
   "metadata": {},
   "outputs": [],
   "source": []
  },
  {
   "cell_type": "markdown",
   "id": "9bfba135",
   "metadata": {},
   "source": [
    "## The Davis Genereation +254757536155"
   ]
  },
  {
   "cell_type": "markdown",
   "id": "95ed6814",
   "metadata": {},
   "source": [
    "# Bye bi "
   ]
  },
  {
   "cell_type": "code",
   "execution_count": null,
   "id": "9d15e146",
   "metadata": {},
   "outputs": [],
   "source": []
  }
 ],
 "metadata": {
  "kernelspec": {
   "display_name": "Python 3 (ipykernel)",
   "language": "python",
   "name": "python3"
  },
  "language_info": {
   "codemirror_mode": {
    "name": "ipython",
    "version": 3
   },
   "file_extension": ".py",
   "mimetype": "text/x-python",
   "name": "python",
   "nbconvert_exporter": "python",
   "pygments_lexer": "ipython3",
   "version": "3.9.7"
  }
 },
 "nbformat": 4,
 "nbformat_minor": 5
}
